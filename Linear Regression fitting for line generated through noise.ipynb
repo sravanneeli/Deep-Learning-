{
 "cells": [
  {
   "cell_type": "code",
   "execution_count": 1,
   "metadata": {},
   "outputs": [],
   "source": [
    "import numpy as np\n",
    "import matplotlib.pyplot as plt\n",
    "import pandas as pd"
   ]
  },
  {
   "cell_type": "code",
   "execution_count": 2,
   "metadata": {},
   "outputs": [],
   "source": [
    "N=100"
   ]
  },
  {
   "cell_type": "code",
   "execution_count": 3,
   "metadata": {},
   "outputs": [],
   "source": [
    "def Compute_Cost(X,y,theta):\n",
    "    m=len(y)\n",
    "    k=1/(2*m)\n",
    "    sqrerrors=np.square(np.matmul(X,theta)-y)\n",
    "    J=k*sum(sqrerrors)\n",
    "    return J"
   ]
  },
  {
   "cell_type": "code",
   "execution_count": 4,
   "metadata": {},
   "outputs": [],
   "source": [
    "def Gradient_descent(X,y,theta,alpha,num_iter):\n",
    "    m=len(y)\n",
    "    a,b=X.shape\n",
    "    for i in range(num_iter):\n",
    "        for j in range(b):\n",
    "            x=X[:,j]\n",
    "            x=x[:,np.newaxis]\n",
    "            pk=sum((np.matmul(X,theta)-y)*x)\n",
    "            theta[j]=theta[j]-(alpha*(1/m)*pk)\n",
    "        #print(\"Computed cost per iteration: \",Compute_Cost(X,y,theta)[0])\n",
    "    return theta"
   ]
  },
  {
   "cell_type": "code",
   "execution_count": 5,
   "metadata": {},
   "outputs": [],
   "source": [
    "y=[x+3 for x in range(0,N)]"
   ]
  },
  {
   "cell_type": "code",
   "execution_count": 6,
   "metadata": {},
   "outputs": [],
   "source": [
    "x1=[x1 for x1 in range(0,N)]"
   ]
  },
  {
   "cell_type": "code",
   "execution_count": 7,
   "metadata": {},
   "outputs": [
    {
     "data": {
      "text/plain": [
       "[<matplotlib.lines.Line2D at 0x7f2d5739c310>]"
      ]
     },
     "execution_count": 7,
     "metadata": {},
     "output_type": "execute_result"
    },
    {
     "data": {
      "image/png": "[encoded data removed]",
      "text/plain": [
       "<Figure size 432x288 with 1 Axes>"
      ]
     },
     "metadata": {
      "needs_background": "light"
     },
     "output_type": "display_data"
    }
   ],
   "source": [
    "plt.plot(x1,y)"
   ]
  },
  {
   "cell_type": "code",
   "execution_count": 8,
   "metadata": {},
   "outputs": [],
   "source": [
    "noise=np.random.normal(0,1,N)\n"
   ]
  },
  {
   "cell_type": "code",
   "execution_count": 9,
   "metadata": {},
   "outputs": [
    {
     "data": {
      "text/plain": [
       "array([ 0.88746916, -0.82851013,  2.75458717,  4.05825683,  4.27380871,\n",
       "        5.02181163,  4.75203164,  6.5189632 ,  7.64183519,  7.97880363,\n",
       "       10.15823135, 12.35976442, 12.10812006, 12.32763766, 13.3026914 ,\n",
       "       15.15574977, 16.53743742, 16.37744731, 17.47417295, 19.28333668,\n",
       "       21.83210875, 20.88464785, 21.87806545, 21.78829088, 24.35118632,\n",
       "       25.15483568, 27.40449748, 26.5711693 , 29.31838119, 29.81690845,\n",
       "       28.49660241, 29.68807771, 31.7351232 , 32.76033467, 34.24334294,\n",
       "       35.1648387 , 35.80153444, 38.04509261, 36.34232652, 38.4719514 ,\n",
       "       38.93559001, 40.6547955 , 41.49634687, 42.91603407, 43.01177037,\n",
       "       46.293766  , 46.93970158, 47.24893659, 48.67745799, 49.89130107,\n",
       "       52.00960036, 52.36023411, 51.95737312, 53.18685743, 55.22526806,\n",
       "       54.42650294, 55.01083044, 57.0101262 , 56.60727885, 58.12074558,\n",
       "       58.99289713, 62.03647164, 62.46884475, 63.41116183, 62.53276227,\n",
       "       65.5409144 , 67.27334887, 67.00396415, 68.37382991, 68.16649372,\n",
       "       68.68234989, 71.00371707, 72.42191223, 72.74959437, 72.33075426,\n",
       "       74.86236841, 75.02074269, 75.66448332, 78.33465412, 79.49178377,\n",
       "       78.5585221 , 80.50156589, 82.41268663, 81.68359678, 83.88138046,\n",
       "       83.63687954, 85.28238751, 85.15314023, 87.74381505, 89.19859869,\n",
       "       88.75426308, 91.64219837, 91.75122469, 92.59967999, 94.24566311,\n",
       "       95.41453625, 96.07513322, 96.46527912, 98.8331808 , 98.82016191])"
      ]
     },
     "execution_count": 9,
     "metadata": {},
     "output_type": "execute_result"
    }
   ],
   "source": [
    "x2=np.add(x1,noise)\n",
    "x2"
   ]
  },
  {
   "cell_type": "code",
   "execution_count": 10,
   "metadata": {},
   "outputs": [
    {
     "data": {
      "text/plain": [
       "<function matplotlib.pyplot.show>"
      ]
     },
     "execution_count": 10,
     "metadata": {},
     "output_type": "execute_result"
    },
    {
     "data": {
      "image/png": "[encoded data removed]",
      "text/plain": [
       "<Figure size 432x288 with 1 Axes>"
      ]
     },
     "metadata": {
      "needs_background": "light"
     },
     "output_type": "display_data"
    }
   ],
   "source": [
    "plt.plot(x1,y)\n",
    "plt.plot(x2,y,'k')\n",
    "plt.show"
   ]
  },
  {
   "cell_type": "code",
   "execution_count": 11,
   "metadata": {},
   "outputs": [],
   "source": [
    "X_train=np.array(x2)\n",
    "a=np.size(x2)\n",
    "ones=np.ones((a,1))\n",
    "dataset=pd.DataFrame({'x1':x2,'y':y},columns=['x1','y'])"
   ]
  },
  {
   "cell_type": "code",
   "execution_count": 12,
   "metadata": {},
   "outputs": [],
   "source": [
    "dataset.insert(0,'x0',ones,True)"
   ]
  },
  {
   "cell_type": "code",
   "execution_count": 13,
   "metadata": {},
   "outputs": [],
   "source": [
    "dataset\n",
    "p,q=dataset.shape"
   ]
  },
  {
   "cell_type": "code",
   "execution_count": 14,
   "metadata": {},
   "outputs": [],
   "source": [
    "X_train=dataset.iloc[0:,0:q-1]\n",
    "y_train=dataset.iloc[0:,q-1:q]"
   ]
  },
  {
   "cell_type": "code",
   "execution_count": 15,
   "metadata": {},
   "outputs": [],
   "source": [
    "X_train=X_train.astype(float).values\n",
    "y_train=y_train.astype(float).values"
   ]
  },
  {
   "cell_type": "code",
   "execution_count": 16,
   "metadata": {},
   "outputs": [
    {
     "name": "stdout",
     "output_type": "stream",
     "text": [
      "[[0.]\n",
      " [0.]]\n",
      "[1794.75]\n"
     ]
    }
   ],
   "source": [
    "X=X_train\n",
    "y=y_train\n",
    "a,b=X.shape\n",
    "theta=np.zeros((b,1))\n",
    "print(theta)\n",
    "J=Compute_Cost(X,y,theta)\n",
    "print(J)"
   ]
  },
  {
   "cell_type": "code",
   "execution_count": 17,
   "metadata": {},
   "outputs": [],
   "source": [
    "alpha=0.0003\n",
    "num_iter=100000"
   ]
  },
  {
   "cell_type": "code",
   "execution_count": 18,
   "metadata": {},
   "outputs": [
    {
     "data": {
      "text/plain": [
       "array([[2.96761373],\n",
       "       [1.00289757]])"
      ]
     },
     "execution_count": 18,
     "metadata": {},
     "output_type": "execute_result"
    }
   ],
   "source": [
    "np.shape(theta)\n",
    "theta=Gradient_descent(X,y,theta,alpha,num_iter)\n",
    "theta"
   ]
  },
  {
   "cell_type": "code",
   "execution_count": 19,
   "metadata": {},
   "outputs": [],
   "source": [
    "h=[theta[0]+theta[1]*x for x in range(0,N)]"
   ]
  },
  {
   "cell_type": "code",
   "execution_count": 20,
   "metadata": {},
   "outputs": [
    {
     "data": {
      "text/plain": [
       "<function matplotlib.pyplot.show>"
      ]
     },
     "execution_count": 20,
     "metadata": {},
     "output_type": "execute_result"
    },
    {
     "data": {
      "image/png": "[encoded data removed]",
      "text/plain": [
       "<Figure size 432x288 with 1 Axes>"
      ]
     },
     "metadata": {
      "needs_background": "light"
     },
     "output_type": "display_data"
    }
   ],
   "source": [
    "plt.figure()\n",
    "plt.plot(x1,y)\n",
    "plt.plot(x2,y)\n",
    "plt.plot(h,y)\n",
    "plt.show"
   ]
  },
  {
   "cell_type": "code",
   "execution_count": 21,
   "metadata": {},
   "outputs": [
    {
     "name": "stdout",
     "output_type": "stream",
     "text": [
      "[[2.96909007]\n",
      " [1.00287526]]\n"
     ]
    }
   ],
   "source": [
    "## Theta values using psuedo Inverse transform formula\n",
    "theta1=np.zeros((b,1))\n",
    "inverse=np.linalg.pinv(np.matmul(np.transpose(X),X))\n",
    "k=np.matmul(np.transpose(X),y)\n",
    "theta1=np.matmul(inverse,k)\n",
    "print(theta1)"
   ]
  },
  {
   "cell_type": "code",
   "execution_count": 22,
   "metadata": {},
   "outputs": [],
   "source": [
    "h1=[theta1[0]+theta1[1]*x for x in range(0,N)]"
   ]
  },
  {
   "cell_type": "code",
   "execution_count": 23,
   "metadata": {},
   "outputs": [
    {
     "data": {
      "text/plain": [
       "<function matplotlib.pyplot.show>"
      ]
     },
     "execution_count": 23,
     "metadata": {},
     "output_type": "execute_result"
    },
    {
     "data": {
      "image/png": "[encoded data removed]",
      "text/plain": [
       "<Figure size 432x288 with 1 Axes>"
      ]
     },
     "metadata": {
      "needs_background": "light"
     },
     "output_type": "display_data"
    }
   ],
   "source": [
    "plt.figure()\n",
    "plt.plot(x1,y)\n",
    "plt.plot(x2,y)\n",
    "plt.plot(h,y)\n",
    "plt.plot(h1,y)\n",
    "plt.show"
   ]
  },
  {
   "cell_type": "code",
   "execution_count": null,
   "metadata": {},
   "outputs": [],
   "source": []
  }
 ],
 "metadata": {
  "kernelspec": {
   "display_name": "Python 3",
   "language": "python",
   "name": "python3"
  },
  "language_info": {
   "codemirror_mode": {
    "name": "ipython",
    "version": 3
   },
   "file_extension": ".py",
   "mimetype": "text/x-python",
   "name": "python",
   "nbconvert_exporter": "python",
   "pygments_lexer": "ipython3",
   "version": "3.7.4"
  }
 },
 "nbformat": 4,
 "nbformat_minor": 2
}
