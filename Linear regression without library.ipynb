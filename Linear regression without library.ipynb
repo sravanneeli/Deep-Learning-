{
 "cells": [
  {
   "cell_type": "code",
   "execution_count": 1,
   "metadata": {},
   "outputs": [],
   "source": [
    "import pandas as pd\n",
    "import matplotlib.pyplot as plt\n",
    "%matplotlib inline\n",
    "from matplotlib import patches\n",
    "import numpy as np"
   ]
  },
  {
   "cell_type": "code",
   "execution_count": 136,
   "metadata": {},
   "outputs": [],
   "source": [
    "##########Here we define a cost function for calculating inital cost/loss of the dataset ##########\n",
    "def Compute_Cost(X,y,theta):\n",
    "    m=len(y)\n",
    "    k=1/(2*m)\n",
    "    sqrerrors=np.square(np.matmul(X,theta)-y)\n",
    "    J=k*sum(sqrerrors)\n",
    "    return J"
   ]
  },
  {
   "cell_type": "code",
   "execution_count": 137,
   "metadata": {},
   "outputs": [],
   "source": [
    "######this function is for calculating theta/paramter that fit the dataset by using gradient descent#######\n",
    "def Gradient_descent(X,y,theta,alpha,num_iter):\n",
    "    m=len(y)\n",
    "    a,b=X.shape\n",
    "    for i in range(num_iter):\n",
    "        for j in range(b):\n",
    "            x=X[:,j]\n",
    "            x=x[:,np.newaxis]\n",
    "            pk=sum((np.matmul(X,theta)-y)*(x))\n",
    "            theta[j]=theta[j]-(alpha*(1/m)*pk)\n",
    "        #print(Compute_Cost(X,y,theta))\n",
    "    return theta"
   ]
  },
  {
   "cell_type": "code",
   "execution_count": 138,
   "metadata": {},
   "outputs": [
    {
     "data": {
      "text/html": [
       "<div>\n",
       "<style scoped>\n",
       "    .dataframe tbody tr th:only-of-type {\n",
       "        vertical-align: middle;\n",
       "    }\n",
       "\n",
       "    .dataframe tbody tr th {\n",
       "        vertical-align: top;\n",
       "    }\n",
       "\n",
       "    .dataframe thead th {\n",
       "        text-align: right;\n",
       "    }\n",
       "</style>\n",
       "<table border=\"1\" class=\"dataframe\">\n",
       "  <thead>\n",
       "    <tr style=\"text-align: right;\">\n",
       "      <th></th>\n",
       "      <th>x1</th>\n",
       "      <th>x2</th>\n",
       "      <th>x3</th>\n",
       "      <th>x4</th>\n",
       "      <th>x5</th>\n",
       "      <th>y</th>\n",
       "    </tr>\n",
       "  </thead>\n",
       "  <tbody>\n",
       "    <tr>\n",
       "      <th>0</th>\n",
       "      <td>Acceleration</td>\n",
       "      <td>Cylinders</td>\n",
       "      <td>Displacement</td>\n",
       "      <td>Horsepower</td>\n",
       "      <td>Weight</td>\n",
       "      <td>MPG</td>\n",
       "    </tr>\n",
       "    <tr>\n",
       "      <th>1</th>\n",
       "      <td>12.0</td>\n",
       "      <td>8.0</td>\n",
       "      <td>307.0</td>\n",
       "      <td>130.0</td>\n",
       "      <td>3504.0</td>\n",
       "      <td>18.0</td>\n",
       "    </tr>\n",
       "    <tr>\n",
       "      <th>2</th>\n",
       "      <td>11.5</td>\n",
       "      <td>8.0</td>\n",
       "      <td>350.0</td>\n",
       "      <td>165.0</td>\n",
       "      <td>3693.0</td>\n",
       "      <td>15.0</td>\n",
       "    </tr>\n",
       "    <tr>\n",
       "      <th>3</th>\n",
       "      <td>11.0</td>\n",
       "      <td>8.0</td>\n",
       "      <td>318.0</td>\n",
       "      <td>150.0</td>\n",
       "      <td>3436.0</td>\n",
       "      <td>18.0</td>\n",
       "    </tr>\n",
       "    <tr>\n",
       "      <th>4</th>\n",
       "      <td>12.0</td>\n",
       "      <td>8.0</td>\n",
       "      <td>304.0</td>\n",
       "      <td>150.0</td>\n",
       "      <td>3433.0</td>\n",
       "      <td>16.0</td>\n",
       "    </tr>\n",
       "  </tbody>\n",
       "</table>\n",
       "</div>"
      ],
      "text/plain": [
       "             x1         x2            x3          x4      x5     y\n",
       "0  Acceleration  Cylinders  Displacement  Horsepower  Weight   MPG\n",
       "1          12.0        8.0         307.0       130.0  3504.0  18.0\n",
       "2          11.5        8.0         350.0       165.0  3693.0  15.0\n",
       "3          11.0        8.0         318.0       150.0  3436.0  18.0\n",
       "4          12.0        8.0         304.0       150.0  3433.0  16.0"
      ]
     },
     "execution_count": 138,
     "metadata": {},
     "output_type": "execute_result"
    }
   ],
   "source": [
    "# read the csv file using read_csv function of pandas\n",
    "df = pd.read_csv(r\"C:\\Users\\SRAVAN NEELI\\Desktop\\DAIICT\\DeepLearning\\Assignment 1\\problem-statement-data\\data_carsmall.csv\")\n",
    "df.head()"
   ]
  },
  {
   "cell_type": "code",
   "execution_count": 139,
   "metadata": {},
   "outputs": [
    {
     "data": {
      "text/html": [
       "<div>\n",
       "<style scoped>\n",
       "    .dataframe tbody tr th:only-of-type {\n",
       "        vertical-align: middle;\n",
       "    }\n",
       "\n",
       "    .dataframe tbody tr th {\n",
       "        vertical-align: top;\n",
       "    }\n",
       "\n",
       "    .dataframe thead th {\n",
       "        text-align: right;\n",
       "    }\n",
       "</style>\n",
       "<table border=\"1\" class=\"dataframe\">\n",
       "  <thead>\n",
       "    <tr style=\"text-align: right;\">\n",
       "      <th></th>\n",
       "      <th>x1</th>\n",
       "      <th>x2</th>\n",
       "      <th>x3</th>\n",
       "      <th>x4</th>\n",
       "      <th>x5</th>\n",
       "      <th>y</th>\n",
       "    </tr>\n",
       "  </thead>\n",
       "  <tbody>\n",
       "    <tr>\n",
       "      <th>0</th>\n",
       "      <td>Acceleration</td>\n",
       "      <td>Cylinders</td>\n",
       "      <td>Displacement</td>\n",
       "      <td>Horsepower</td>\n",
       "      <td>Weight</td>\n",
       "      <td>MPG</td>\n",
       "    </tr>\n",
       "    <tr>\n",
       "      <th>1</th>\n",
       "      <td>12.0</td>\n",
       "      <td>8.0</td>\n",
       "      <td>307.0</td>\n",
       "      <td>130.0</td>\n",
       "      <td>3504.0</td>\n",
       "      <td>18.0</td>\n",
       "    </tr>\n",
       "    <tr>\n",
       "      <th>2</th>\n",
       "      <td>11.5</td>\n",
       "      <td>8.0</td>\n",
       "      <td>350.0</td>\n",
       "      <td>165.0</td>\n",
       "      <td>3693.0</td>\n",
       "      <td>15.0</td>\n",
       "    </tr>\n",
       "    <tr>\n",
       "      <th>3</th>\n",
       "      <td>11.0</td>\n",
       "      <td>8.0</td>\n",
       "      <td>318.0</td>\n",
       "      <td>150.0</td>\n",
       "      <td>3436.0</td>\n",
       "      <td>18.0</td>\n",
       "    </tr>\n",
       "    <tr>\n",
       "      <th>4</th>\n",
       "      <td>12.0</td>\n",
       "      <td>8.0</td>\n",
       "      <td>304.0</td>\n",
       "      <td>150.0</td>\n",
       "      <td>3433.0</td>\n",
       "      <td>16.0</td>\n",
       "    </tr>\n",
       "  </tbody>\n",
       "</table>\n",
       "</div>"
      ],
      "text/plain": [
       "             x1         x2            x3          x4      x5     y\n",
       "0  Acceleration  Cylinders  Displacement  Horsepower  Weight   MPG\n",
       "1          12.0        8.0         307.0       130.0  3504.0  18.0\n",
       "2          11.5        8.0         350.0       165.0  3693.0  15.0\n",
       "3          11.0        8.0         318.0       150.0  3436.0  18.0\n",
       "4          12.0        8.0         304.0       150.0  3433.0  16.0"
      ]
     },
     "execution_count": 139,
     "metadata": {},
     "output_type": "execute_result"
    }
   ],
   "source": [
    "########cleaning the dataset which are with Nan format ######################\n",
    "p,q=df.shape\n",
    "train=df[df.y.notna()]\n",
    "test=df[df.y.isna()]\n",
    "train=train.fillna(0)\n",
    "train.head()\n"
   ]
  },
  {
   "cell_type": "code",
   "execution_count": 140,
   "metadata": {},
   "outputs": [],
   "source": [
    "###################Here we are splitting dataset to train and test dataset#########################\n",
    "X_train=train.iloc[1:,0:q-1]\n",
    "y_train=train.iloc[1:,q-1:q]\n",
    "X_test=test.iloc[0:,0:q-1]\n",
    "y_test=test.iloc[0:,q-1:q]\n",
    "X_train=X_train.fillna(0)\n",
    "##########converting dataframes to arrays###########\n",
    "X_train=X_train.astype(float).values\n",
    "y_train=y_train.astype(float).values\n",
    "X_test=X_test.astype(float).values\n",
    "#########normalization#############################\n",
    "X_train=(X_train-X_train.mean())/X_train.std()\n",
    "X_test=(X_test-X_test.mean())/X_test.std()"
   ]
  },
  {
   "cell_type": "code",
   "execution_count": 141,
   "metadata": {},
   "outputs": [],
   "source": [
    "######initalizing values for theta###########\n",
    "theta=np.zeros((np.size(X_train[0,:])+1,1))"
   ]
  },
  {
   "cell_type": "code",
   "execution_count": 142,
   "metadata": {},
   "outputs": [],
   "source": [
    "X=X_train\n",
    "y=y_train\n",
    "a,b=X.shape\n",
    "ones=np.ones((a,1))\n",
    "##########appending bias column to training data###########\n",
    "X=np.append(ones,X,axis=1)\n"
   ]
  },
  {
   "cell_type": "code",
   "execution_count": 143,
   "metadata": {},
   "outputs": [
    {
     "name": "stdout",
     "output_type": "stream",
     "text": [
      "[313.21675532]\n"
     ]
    }
   ],
   "source": [
    "######calling cost function##########\n",
    "J=Compute_Cost(X,y,theta)\n",
    "print(J)"
   ]
  },
  {
   "cell_type": "code",
   "execution_count": 144,
   "metadata": {},
   "outputs": [],
   "source": [
    "########initalizig suitalbe values for running gradient descent################\n",
    "alpha=0.3\n",
    "num_iter=1000\n",
    "np.shape(theta)\n",
    "theta=Gradient_descent(X,y,theta,alpha,num_iter)"
   ]
  },
  {
   "cell_type": "code",
   "execution_count": 145,
   "metadata": {},
   "outputs": [
    {
     "name": "stdout",
     "output_type": "stream",
     "text": [
      "[[ 22.76570399]\n",
      " [ -8.28465677]\n",
      " [ -8.11819381]\n",
      " [-11.282929  ]\n",
      " [ -9.44408044]\n",
      " [ -8.60776886]]\n"
     ]
    }
   ],
   "source": [
    "######## trained wieghts/parameters which can be used for test data################\n",
    "print(theta)"
   ]
  },
  {
   "cell_type": "code",
   "execution_count": 146,
   "metadata": {},
   "outputs": [],
   "source": [
    "#########pre-processing of test-data##############\n",
    "y_test=y_test.fillna(0)\n",
    "k,q=X_test.shape\n",
    "prediction={}\n",
    "ones=np.ones((k,1))\n",
    "X_test=np.append(ones,X_test,axis=1)"
   ]
  },
  {
   "cell_type": "code",
   "execution_count": 147,
   "metadata": {},
   "outputs": [],
   "source": [
    "####prediction for the test data#########\n",
    "for i in range(k):\n",
    "    y_test.iloc[i,0]=np.matmul(X_test[i,:],theta)"
   ]
  },
  {
   "cell_type": "code",
   "execution_count": 148,
   "metadata": {},
   "outputs": [
    {
     "name": "stdout",
     "output_type": "stream",
     "text": [
      "            y\n",
      "11  29.261411\n",
      "12  21.162794\n",
      "13  21.864270\n",
      "14  20.712394\n",
      "15  22.727388\n",
      "18  26.308402\n"
     ]
    }
   ],
   "source": [
    "print(y_test)#predicting the values for test data"
   ]
  },
  {
   "cell_type": "code",
   "execution_count": 149,
   "metadata": {},
   "outputs": [],
   "source": [
    "######################POLYNOMIAL REGRESSION TO FIT THE DATA MORE ACCURATELY#####################\n",
    "######################HERE WE USE SKLEARN LIBRARY TO TRAIN THE DATA AND TEST IT ################\n",
    "from sklearn.preprocessing import PolynomialFeatures\n",
    "from sklearn.linear_model import LinearRegression"
   ]
  },
  {
   "cell_type": "code",
   "execution_count": 150,
   "metadata": {},
   "outputs": [
    {
     "data": {
      "text/html": [
       "<div>\n",
       "<style scoped>\n",
       "    .dataframe tbody tr th:only-of-type {\n",
       "        vertical-align: middle;\n",
       "    }\n",
       "\n",
       "    .dataframe tbody tr th {\n",
       "        vertical-align: top;\n",
       "    }\n",
       "\n",
       "    .dataframe thead th {\n",
       "        text-align: right;\n",
       "    }\n",
       "</style>\n",
       "<table border=\"1\" class=\"dataframe\">\n",
       "  <thead>\n",
       "    <tr style=\"text-align: right;\">\n",
       "      <th></th>\n",
       "      <th>x1</th>\n",
       "      <th>x2</th>\n",
       "      <th>x3</th>\n",
       "      <th>x4</th>\n",
       "      <th>x5</th>\n",
       "      <th>y</th>\n",
       "    </tr>\n",
       "  </thead>\n",
       "  <tbody>\n",
       "    <tr>\n",
       "      <th>0</th>\n",
       "      <td>Acceleration</td>\n",
       "      <td>Cylinders</td>\n",
       "      <td>Displacement</td>\n",
       "      <td>Horsepower</td>\n",
       "      <td>Weight</td>\n",
       "      <td>MPG</td>\n",
       "    </tr>\n",
       "    <tr>\n",
       "      <th>1</th>\n",
       "      <td>12.0</td>\n",
       "      <td>8.0</td>\n",
       "      <td>307.0</td>\n",
       "      <td>130.0</td>\n",
       "      <td>3504.0</td>\n",
       "      <td>18.0</td>\n",
       "    </tr>\n",
       "    <tr>\n",
       "      <th>2</th>\n",
       "      <td>11.5</td>\n",
       "      <td>8.0</td>\n",
       "      <td>350.0</td>\n",
       "      <td>165.0</td>\n",
       "      <td>3693.0</td>\n",
       "      <td>15.0</td>\n",
       "    </tr>\n",
       "    <tr>\n",
       "      <th>3</th>\n",
       "      <td>11.0</td>\n",
       "      <td>8.0</td>\n",
       "      <td>318.0</td>\n",
       "      <td>150.0</td>\n",
       "      <td>3436.0</td>\n",
       "      <td>18.0</td>\n",
       "    </tr>\n",
       "    <tr>\n",
       "      <th>4</th>\n",
       "      <td>12.0</td>\n",
       "      <td>8.0</td>\n",
       "      <td>304.0</td>\n",
       "      <td>150.0</td>\n",
       "      <td>3433.0</td>\n",
       "      <td>16.0</td>\n",
       "    </tr>\n",
       "  </tbody>\n",
       "</table>\n",
       "</div>"
      ],
      "text/plain": [
       "             x1         x2            x3          x4      x5     y\n",
       "0  Acceleration  Cylinders  Displacement  Horsepower  Weight   MPG\n",
       "1          12.0        8.0         307.0       130.0  3504.0  18.0\n",
       "2          11.5        8.0         350.0       165.0  3693.0  15.0\n",
       "3          11.0        8.0         318.0       150.0  3436.0  18.0\n",
       "4          12.0        8.0         304.0       150.0  3433.0  16.0"
      ]
     },
     "execution_count": 150,
     "metadata": {},
     "output_type": "execute_result"
    }
   ],
   "source": [
    "df = pd.read_csv(r\"C:\\Users\\SRAVAN NEELI\\Desktop\\DAIICT\\DeepLearning\\Assignment 1\\problem-statement-data\\data_carsmall.csv\")\n",
    "df.head()"
   ]
  },
  {
   "cell_type": "code",
   "execution_count": 151,
   "metadata": {},
   "outputs": [
    {
     "data": {
      "text/html": [
       "<div>\n",
       "<style scoped>\n",
       "    .dataframe tbody tr th:only-of-type {\n",
       "        vertical-align: middle;\n",
       "    }\n",
       "\n",
       "    .dataframe tbody tr th {\n",
       "        vertical-align: top;\n",
       "    }\n",
       "\n",
       "    .dataframe thead th {\n",
       "        text-align: right;\n",
       "    }\n",
       "</style>\n",
       "<table border=\"1\" class=\"dataframe\">\n",
       "  <thead>\n",
       "    <tr style=\"text-align: right;\">\n",
       "      <th></th>\n",
       "      <th>x1</th>\n",
       "      <th>x2</th>\n",
       "      <th>x3</th>\n",
       "      <th>x4</th>\n",
       "      <th>x5</th>\n",
       "      <th>y</th>\n",
       "    </tr>\n",
       "  </thead>\n",
       "  <tbody>\n",
       "    <tr>\n",
       "      <th>0</th>\n",
       "      <td>Acceleration</td>\n",
       "      <td>Cylinders</td>\n",
       "      <td>Displacement</td>\n",
       "      <td>Horsepower</td>\n",
       "      <td>Weight</td>\n",
       "      <td>MPG</td>\n",
       "    </tr>\n",
       "    <tr>\n",
       "      <th>1</th>\n",
       "      <td>12.0</td>\n",
       "      <td>8.0</td>\n",
       "      <td>307.0</td>\n",
       "      <td>130.0</td>\n",
       "      <td>3504.0</td>\n",
       "      <td>18.0</td>\n",
       "    </tr>\n",
       "    <tr>\n",
       "      <th>2</th>\n",
       "      <td>11.5</td>\n",
       "      <td>8.0</td>\n",
       "      <td>350.0</td>\n",
       "      <td>165.0</td>\n",
       "      <td>3693.0</td>\n",
       "      <td>15.0</td>\n",
       "    </tr>\n",
       "    <tr>\n",
       "      <th>3</th>\n",
       "      <td>11.0</td>\n",
       "      <td>8.0</td>\n",
       "      <td>318.0</td>\n",
       "      <td>150.0</td>\n",
       "      <td>3436.0</td>\n",
       "      <td>18.0</td>\n",
       "    </tr>\n",
       "    <tr>\n",
       "      <th>4</th>\n",
       "      <td>12.0</td>\n",
       "      <td>8.0</td>\n",
       "      <td>304.0</td>\n",
       "      <td>150.0</td>\n",
       "      <td>3433.0</td>\n",
       "      <td>16.0</td>\n",
       "    </tr>\n",
       "  </tbody>\n",
       "</table>\n",
       "</div>"
      ],
      "text/plain": [
       "             x1         x2            x3          x4      x5     y\n",
       "0  Acceleration  Cylinders  Displacement  Horsepower  Weight   MPG\n",
       "1          12.0        8.0         307.0       130.0  3504.0  18.0\n",
       "2          11.5        8.0         350.0       165.0  3693.0  15.0\n",
       "3          11.0        8.0         318.0       150.0  3436.0  18.0\n",
       "4          12.0        8.0         304.0       150.0  3433.0  16.0"
      ]
     },
     "execution_count": 151,
     "metadata": {},
     "output_type": "execute_result"
    }
   ],
   "source": [
    "#########splitting data into train and test data###########\n",
    "p,q=df.shape\n",
    "train=df[df.y.notna()]\n",
    "test=df[df.y.isna()]\n",
    "train=train.fillna(0)\n",
    "train.head()"
   ]
  },
  {
   "cell_type": "code",
   "execution_count": 152,
   "metadata": {},
   "outputs": [],
   "source": [
    "######### spliting data for train data input and target data ######################\n",
    "X_train=train.iloc[1:,0:q-1]\n",
    "y_train=train.iloc[1:,q-1:q]\n",
    "X_test=test.iloc[0:,0:q-1]\n",
    "y_test=test.iloc[0:,q-1:q]\n",
    "X_train=X_train.fillna(0)\n",
    "################### converting data to numpy arrays ##############################\n",
    "X_train=X_train.astype(float).values\n",
    "y_train=y_train.astype(float).values\n",
    "X_test=X_test.astype(float).values"
   ]
  },
  {
   "cell_type": "code",
   "execution_count": 153,
   "metadata": {},
   "outputs": [],
   "source": [
    "##############transforming data to into polynomial regression #################\n",
    "poly=PolynomialFeatures(degree=2)\n",
    "regressor=LinearRegression()"
   ]
  },
  {
   "cell_type": "code",
   "execution_count": 154,
   "metadata": {},
   "outputs": [],
   "source": [
    "poly_X=poly.fit_transform(X_train)"
   ]
  },
  {
   "cell_type": "code",
   "execution_count": 155,
   "metadata": {},
   "outputs": [
    {
     "data": {
      "text/plain": [
       "LinearRegression(copy_X=True, fit_intercept=True, n_jobs=None,\n",
       "         normalize=False)"
      ]
     },
     "execution_count": 155,
     "metadata": {},
     "output_type": "execute_result"
    }
   ],
   "source": [
    "########fitting the generated polynomial dataset ####################\n",
    "regressor.fit(poly_X,y_train)"
   ]
  },
  {
   "cell_type": "code",
   "execution_count": 156,
   "metadata": {},
   "outputs": [
    {
     "data": {
      "text/plain": [
       "array([[ 0.00000000e+00, -2.26667234e-01,  1.11690750e+00,\n",
       "        -3.20346471e-02, -3.62791078e-01, -4.93586799e-03,\n",
       "         6.04036595e-02, -9.93488594e-01,  1.78635994e-02,\n",
       "         3.46660561e-03, -1.12438768e-04, -1.12040653e+00,\n",
       "        -4.35682697e-02, -1.29889664e-02,  1.11959092e-02,\n",
       "         5.61802835e-04,  9.37844487e-04, -9.57500135e-05,\n",
       "        -1.18544094e-03,  1.13437569e-04, -8.68226250e-06]])"
      ]
     },
     "execution_count": 156,
     "metadata": {},
     "output_type": "execute_result"
    }
   ],
   "source": [
    "########### Getting the parameters/wieghts of the trained model #############\n",
    "regressor.coef_"
   ]
  },
  {
   "cell_type": "code",
   "execution_count": 157,
   "metadata": {},
   "outputs": [],
   "source": [
    "################# transforming test data ###############\n",
    "poly_X_test=poly.fit_transform(X_test)"
   ]
  },
  {
   "cell_type": "code",
   "execution_count": 158,
   "metadata": {},
   "outputs": [
    {
     "data": {
      "text/plain": [
       "array([[18.74244356],\n",
       "       [15.21807475],\n",
       "       [15.90757205],\n",
       "       [14.76908216],\n",
       "       [15.11349483],\n",
       "       [19.63610222]])"
      ]
     },
     "execution_count": 158,
     "metadata": {},
     "output_type": "execute_result"
    }
   ],
   "source": [
    "############predicting the test data ##################\n",
    "regressor.predict(poly_X_test)"
   ]
  }
 ],
 "metadata": {
  "kernelspec": {
   "display_name": "Python 3",
   "language": "python",
   "name": "python3"
  },
  "language_info": {
   "codemirror_mode": {
    "name": "ipython",
    "version": 3
   },
   "file_extension": ".py",
   "mimetype": "text/x-python",
   "name": "python",
   "nbconvert_exporter": "python",
   "pygments_lexer": "ipython3",
   "version": "3.7.4"
  }
 },
 "nbformat": 4,
 "nbformat_minor": 2
}
